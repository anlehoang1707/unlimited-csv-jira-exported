{
 "cells": [
  {
   "cell_type": "code",
   "execution_count": 141,
   "id": "4f8a6f4c-8598-47a5-9569-a0649f5a0453",
   "metadata": {},
   "outputs": [
    {
     "data": {
      "text/html": [
       "<table border=\"1\" class=\"dataframe\">\n",
       "  <thead>\n",
       "    <tr style=\"text-align: right;\">\n",
       "      <th></th>\n",
       "      <th>test.type</th>\n",
       "      <th>fields.name</th>\n",
       "      <th>fields.issue.id</th>\n",
       "    </tr>\n",
       "  </thead>\n",
       "  <tbody>\n",
       "    <tr>\n",
       "      <th>0</th>\n",
       "      <td>1</td>\n",
       "      <td>4</td>\n",
       "      <td>123</td>\n",
       "    </tr>\n",
       "    <tr>\n",
       "      <th>1</th>\n",
       "      <td>2</td>\n",
       "      <td>5</td>\n",
       "      <td>333</td>\n",
       "    </tr>\n",
       "    <tr>\n",
       "      <th>2</th>\n",
       "      <td>3</td>\n",
       "      <td>6</td>\n",
       "      <td>555</td>\n",
       "    </tr>\n",
       "  </tbody>\n",
       "</table>"
      ],
      "text/plain": [
       "<IPython.core.display.HTML object>"
      ]
     },
     "metadata": {},
     "output_type": "display_data"
    }
   ],
   "source": [
    "from IPython.display import HTML, display\n",
    "import pandas as pd\n",
    "df = pd.DataFrame({\"test.type\": [1, 2, 3], \"fields.name\": [4, 5, 6], \"fields.issue.id\": [123,333,555]})\n",
    "column_name = list(df.columns.values)\n",
    "#new_column_name = [col[7:] for col in column_name if col[:6] == \"fields\" else col]\n",
    "\n",
    "display(HTML(df.to_html()))"
   ]
  },
  {
   "cell_type": "code",
   "execution_count": 142,
   "id": "0f5c196c-3790-4af0-b0ef-730a05f636d6",
   "metadata": {},
   "outputs": [],
   "source": [
    "test = df.rename(columns = lambda x: x[7:] if x.startswith('fields') else x)"
   ]
  },
  {
   "cell_type": "code",
   "execution_count": 143,
   "id": "ac5ee611-816c-4629-b187-7f535c664890",
   "metadata": {},
   "outputs": [
    {
     "name": "stdout",
     "output_type": "stream",
     "text": [
      "   test.type  name  issue.id\n",
      "0          1     4       123\n",
      "1          2     5       333\n",
      "2          3     6       555\n"
     ]
    }
   ],
   "source": [
    "print(test)"
   ]
  },
  {
   "cell_type": "code",
   "execution_count": 138,
   "id": "352e426d-f046-475b-8134-f44a5aca2d15",
   "metadata": {},
   "outputs": [
    {
     "name": "stdout",
     "output_type": "stream",
     "text": [
      "['test.type', 'fields.name', 'fields.issue.id']\n"
     ]
    }
   ],
   "source": [
    "print(column_name)"
   ]
  },
  {
   "cell_type": "code",
   "execution_count": 124,
   "id": "2ddfd375-580b-4a0c-b00a-aa7669a52a5a",
   "metadata": {},
   "outputs": [
    {
     "name": "stdout",
     "output_type": "stream",
     "text": [
      "['name', 'issue.id']\n"
     ]
    }
   ],
   "source": [
    "print(new_column_name)"
   ]
  },
  {
   "cell_type": "code",
   "execution_count": 103,
   "id": "8f60c7fe-f740-4444-bf22-e8927ce5bdb8",
   "metadata": {},
   "outputs": [
    {
     "name": "stdout",
     "output_type": "stream",
     "text": [
      "fields\n",
      "True\n"
     ]
    }
   ],
   "source": [
    "a = 'fields.name'\n",
    "b = a[:6]\n",
    "print(b)\n",
    "if b == \"fields\":\n",
    "    print (\"True\")\n",
    "else:\n",
    "    print (\"false\")"
   ]
  },
  {
   "cell_type": "code",
   "execution_count": 109,
   "id": "6ed297b1-ccdd-4e6a-b81f-af1e0361cc8b",
   "metadata": {},
   "outputs": [
    {
     "name": "stdout",
     "output_type": "stream",
     "text": [
      "name\n"
     ]
    }
   ],
   "source": [
    "c = a[7:]\n",
    "print(c)"
   ]
  },
  {
   "cell_type": "code",
   "execution_count": null,
   "id": "3630fe8d-529a-4ebe-8de6-d6973fdd8400",
   "metadata": {},
   "outputs": [],
   "source": []
  }
 ],
 "metadata": {
  "kernelspec": {
   "display_name": "Python 3 (ipykernel)",
   "language": "python",
   "name": "python3"
  },
  "language_info": {
   "codemirror_mode": {
    "name": "ipython",
    "version": 3
   },
   "file_extension": ".py",
   "mimetype": "text/x-python",
   "name": "python",
   "nbconvert_exporter": "python",
   "pygments_lexer": "ipython3",
   "version": "3.11.6"
  }
 },
 "nbformat": 4,
 "nbformat_minor": 5
}
